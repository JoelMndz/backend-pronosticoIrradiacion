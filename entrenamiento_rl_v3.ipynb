{
 "cells": [
  {
   "cell_type": "markdown",
   "metadata": {},
   "source": [
    "# Entrenamiento del modelo de predicción de irradiación solar"
   ]
  },
  {
   "cell_type": "code",
   "execution_count": 1,
   "metadata": {},
   "outputs": [],
   "source": [
    "import pandas as pd\n",
    "from sklearn.model_selection import train_test_split\n",
    "from sklearn.linear_model import LinearRegression\n",
    "from sklearn.metrics import mean_squared_error, r2_score\n",
    "from sklearn.preprocessing import StandardScaler\n",
    "from sklearn.pipeline import make_pipeline"
   ]
  },
  {
   "cell_type": "code",
   "execution_count": 2,
   "metadata": {},
   "outputs": [],
   "source": [
    "df = pd.read_excel('datos_julio.xlsx') # pd.read_csv('datos_v2.csv', delimiter=';')"
   ]
  },
  {
   "cell_type": "code",
   "execution_count": 3,
   "metadata": {},
   "outputs": [
    {
     "data": {
      "text/html": [
       "<div>\n",
       "<style scoped>\n",
       "    .dataframe tbody tr th:only-of-type {\n",
       "        vertical-align: middle;\n",
       "    }\n",
       "\n",
       "    .dataframe tbody tr th {\n",
       "        vertical-align: top;\n",
       "    }\n",
       "\n",
       "    .dataframe thead th {\n",
       "        text-align: right;\n",
       "    }\n",
       "</style>\n",
       "<table border=\"1\" class=\"dataframe\">\n",
       "  <thead>\n",
       "    <tr style=\"text-align: right;\">\n",
       "      <th></th>\n",
       "      <th>fecha</th>\n",
       "      <th>temperaturaAmbiente</th>\n",
       "      <th>temperaturaSensor</th>\n",
       "      <th>irradiacion</th>\n",
       "    </tr>\n",
       "  </thead>\n",
       "  <tbody>\n",
       "    <tr>\n",
       "      <th>190</th>\n",
       "      <td>01.03.2024 15:45</td>\n",
       "      <td>24</td>\n",
       "      <td>31</td>\n",
       "      <td>288.00</td>\n",
       "    </tr>\n",
       "    <tr>\n",
       "      <th>191</th>\n",
       "      <td>01.03.2024 15:50</td>\n",
       "      <td>24</td>\n",
       "      <td>34</td>\n",
       "      <td>293.62</td>\n",
       "    </tr>\n",
       "    <tr>\n",
       "      <th>192</th>\n",
       "      <td>01.03.2024 15:55</td>\n",
       "      <td>24</td>\n",
       "      <td>34</td>\n",
       "      <td>340.00</td>\n",
       "    </tr>\n",
       "    <tr>\n",
       "      <th>193</th>\n",
       "      <td>01.03.2024 16:00</td>\n",
       "      <td>24</td>\n",
       "      <td>36</td>\n",
       "      <td>469.00</td>\n",
       "    </tr>\n",
       "    <tr>\n",
       "      <th>194</th>\n",
       "      <td>01.03.2024 16:05</td>\n",
       "      <td>24</td>\n",
       "      <td>36</td>\n",
       "      <td>385.00</td>\n",
       "    </tr>\n",
       "    <tr>\n",
       "      <th>...</th>\n",
       "      <td>...</td>\n",
       "      <td>...</td>\n",
       "      <td>...</td>\n",
       "      <td>...</td>\n",
       "    </tr>\n",
       "    <tr>\n",
       "      <th>35810</th>\n",
       "      <td>31.07.2024 18:10</td>\n",
       "      <td>19</td>\n",
       "      <td>17</td>\n",
       "      <td>19.00</td>\n",
       "    </tr>\n",
       "    <tr>\n",
       "      <th>35811</th>\n",
       "      <td>31.07.2024 18:15</td>\n",
       "      <td>18.99</td>\n",
       "      <td>16.99</td>\n",
       "      <td>15.94</td>\n",
       "    </tr>\n",
       "    <tr>\n",
       "      <th>35812</th>\n",
       "      <td>31.07.2024 18:20</td>\n",
       "      <td>18</td>\n",
       "      <td>16</td>\n",
       "      <td>10.00</td>\n",
       "    </tr>\n",
       "    <tr>\n",
       "      <th>35813</th>\n",
       "      <td>31.07.2024 18:25</td>\n",
       "      <td>18</td>\n",
       "      <td>16</td>\n",
       "      <td>4.98</td>\n",
       "    </tr>\n",
       "    <tr>\n",
       "      <th>35814</th>\n",
       "      <td>31.07.2024 18:30</td>\n",
       "      <td>18</td>\n",
       "      <td>16</td>\n",
       "      <td>3.00</td>\n",
       "    </tr>\n",
       "  </tbody>\n",
       "</table>\n",
       "<p>18032 rows × 4 columns</p>\n",
       "</div>"
      ],
      "text/plain": [
       "                  fecha temperaturaAmbiente temperaturaSensor  irradiacion\n",
       "190    01.03.2024 15:45                  24                31       288.00\n",
       "191    01.03.2024 15:50                  24                34       293.62\n",
       "192    01.03.2024 15:55                  24                34       340.00\n",
       "193    01.03.2024 16:00                  24                36       469.00\n",
       "194    01.03.2024 16:05                  24                36       385.00\n",
       "...                 ...                 ...               ...          ...\n",
       "35810  31.07.2024 18:10                  19                17        19.00\n",
       "35811  31.07.2024 18:15               18.99             16.99        15.94\n",
       "35812  31.07.2024 18:20                  18                16        10.00\n",
       "35813  31.07.2024 18:25                  18                16         4.98\n",
       "35814  31.07.2024 18:30                  18                16         3.00\n",
       "\n",
       "[18032 rows x 4 columns]"
      ]
     },
     "execution_count": 3,
     "metadata": {},
     "output_type": "execute_result"
    }
   ],
   "source": [
    "df = df.loc[1:]\n",
    "# Renombrar columnas\n",
    "df.rename(columns={'Temperatura de módulo | Sensor Card / Box (1)': 'temperaturaSensor'}, inplace=True)\n",
    "df.rename(columns={'Temperatura ambiente | Sensor Card / Box (1)': 'temperaturaAmbiente'}, inplace=True)\n",
    "df.rename(columns={'Irradiación | Sensor Card / Box (1)': 'irradiacion'}, inplace=True)\n",
    "df.rename(columns={'Fecha y hora': 'fecha'}, inplace=True)\n",
    "\n",
    "# Quedarme con dos columnas de entrada y una de salida(irradiacion)\n",
    "df = df[['fecha','temperaturaAmbiente','temperaturaSensor','irradiacion']]\n",
    "\n",
    "# Eliminar los valores nulos\n",
    "df.dropna(inplace=True)\n",
    "\n",
    "df['irradiacion'] = df['irradiacion'].apply(lambda x: float(str(x).strip().replace(',','.')))\n",
    "\n",
    "# Solo quedarme con los valores que hay irradiación (Día)\n",
    "df = df[df['irradiacion'] > 0]\n",
    "df\n"
   ]
  },
  {
   "cell_type": "code",
   "execution_count": 4,
   "metadata": {},
   "outputs": [],
   "source": [
    "# Transformar la fecha a datetime\n",
    "df['fecha'] = pd.to_datetime(df['fecha'], format='%d.%m.%Y %H:%M')\n",
    "df['hora'] = [i.hour for i in df['fecha']]\n",
    "df['minuto'] = [i.minute for i in df['fecha']]\n",
    "# Parsear las columnas temperaturas a float\n",
    "df['temperaturaAmbiente'] = df['temperaturaAmbiente'].apply(lambda x: float(str(x).strip().replace(',','.')))\n",
    "df['temperaturaSensor'] = df['temperaturaSensor'].apply(lambda x: float(str(x).strip().replace(',','.')))\n",
    "df['tiempo'] = df.apply(lambda row: row['hora'] + (row['minuto'] // 5) * 0.083, axis=1)"
   ]
  },
  {
   "cell_type": "code",
   "execution_count": 5,
   "metadata": {},
   "outputs": [
    {
     "data": {
      "text/html": [
       "<style>#sk-container-id-1 {color: black;}#sk-container-id-1 pre{padding: 0;}#sk-container-id-1 div.sk-toggleable {background-color: white;}#sk-container-id-1 label.sk-toggleable__label {cursor: pointer;display: block;width: 100%;margin-bottom: 0;padding: 0.3em;box-sizing: border-box;text-align: center;}#sk-container-id-1 label.sk-toggleable__label-arrow:before {content: \"▸\";float: left;margin-right: 0.25em;color: #696969;}#sk-container-id-1 label.sk-toggleable__label-arrow:hover:before {color: black;}#sk-container-id-1 div.sk-estimator:hover label.sk-toggleable__label-arrow:before {color: black;}#sk-container-id-1 div.sk-toggleable__content {max-height: 0;max-width: 0;overflow: hidden;text-align: left;background-color: #f0f8ff;}#sk-container-id-1 div.sk-toggleable__content pre {margin: 0.2em;color: black;border-radius: 0.25em;background-color: #f0f8ff;}#sk-container-id-1 input.sk-toggleable__control:checked~div.sk-toggleable__content {max-height: 200px;max-width: 100%;overflow: auto;}#sk-container-id-1 input.sk-toggleable__control:checked~label.sk-toggleable__label-arrow:before {content: \"▾\";}#sk-container-id-1 div.sk-estimator input.sk-toggleable__control:checked~label.sk-toggleable__label {background-color: #d4ebff;}#sk-container-id-1 div.sk-label input.sk-toggleable__control:checked~label.sk-toggleable__label {background-color: #d4ebff;}#sk-container-id-1 input.sk-hidden--visually {border: 0;clip: rect(1px 1px 1px 1px);clip: rect(1px, 1px, 1px, 1px);height: 1px;margin: -1px;overflow: hidden;padding: 0;position: absolute;width: 1px;}#sk-container-id-1 div.sk-estimator {font-family: monospace;background-color: #f0f8ff;border: 1px dotted black;border-radius: 0.25em;box-sizing: border-box;margin-bottom: 0.5em;}#sk-container-id-1 div.sk-estimator:hover {background-color: #d4ebff;}#sk-container-id-1 div.sk-parallel-item::after {content: \"\";width: 100%;border-bottom: 1px solid gray;flex-grow: 1;}#sk-container-id-1 div.sk-label:hover label.sk-toggleable__label {background-color: #d4ebff;}#sk-container-id-1 div.sk-serial::before {content: \"\";position: absolute;border-left: 1px solid gray;box-sizing: border-box;top: 0;bottom: 0;left: 50%;z-index: 0;}#sk-container-id-1 div.sk-serial {display: flex;flex-direction: column;align-items: center;background-color: white;padding-right: 0.2em;padding-left: 0.2em;position: relative;}#sk-container-id-1 div.sk-item {position: relative;z-index: 1;}#sk-container-id-1 div.sk-parallel {display: flex;align-items: stretch;justify-content: center;background-color: white;position: relative;}#sk-container-id-1 div.sk-item::before, #sk-container-id-1 div.sk-parallel-item::before {content: \"\";position: absolute;border-left: 1px solid gray;box-sizing: border-box;top: 0;bottom: 0;left: 50%;z-index: -1;}#sk-container-id-1 div.sk-parallel-item {display: flex;flex-direction: column;z-index: 1;position: relative;background-color: white;}#sk-container-id-1 div.sk-parallel-item:first-child::after {align-self: flex-end;width: 50%;}#sk-container-id-1 div.sk-parallel-item:last-child::after {align-self: flex-start;width: 50%;}#sk-container-id-1 div.sk-parallel-item:only-child::after {width: 0;}#sk-container-id-1 div.sk-dashed-wrapped {border: 1px dashed gray;margin: 0 0.4em 0.5em 0.4em;box-sizing: border-box;padding-bottom: 0.4em;background-color: white;}#sk-container-id-1 div.sk-label label {font-family: monospace;font-weight: bold;display: inline-block;line-height: 1.2em;}#sk-container-id-1 div.sk-label-container {text-align: center;}#sk-container-id-1 div.sk-container {/* jupyter's `normalize.less` sets `[hidden] { display: none; }` but bootstrap.min.css set `[hidden] { display: none !important; }` so we also need the `!important` here to be able to override the default hidden behavior on the sphinx rendered scikit-learn.org. See: https://github.com/scikit-learn/scikit-learn/issues/21755 */display: inline-block !important;position: relative;}#sk-container-id-1 div.sk-text-repr-fallback {display: none;}</style><div id=\"sk-container-id-1\" class=\"sk-top-container\"><div class=\"sk-text-repr-fallback\"><pre>LinearRegression()</pre><b>In a Jupyter environment, please rerun this cell to show the HTML representation or trust the notebook. <br />On GitHub, the HTML representation is unable to render, please try loading this page with nbviewer.org.</b></div><div class=\"sk-container\" hidden><div class=\"sk-item\"><div class=\"sk-estimator sk-toggleable\"><input class=\"sk-toggleable__control sk-hidden--visually\" id=\"sk-estimator-id-1\" type=\"checkbox\" checked><label for=\"sk-estimator-id-1\" class=\"sk-toggleable__label sk-toggleable__label-arrow\">LinearRegression</label><div class=\"sk-toggleable__content\"><pre>LinearRegression()</pre></div></div></div></div></div>"
      ],
      "text/plain": [
       "LinearRegression()"
      ]
     },
     "execution_count": 5,
     "metadata": {},
     "output_type": "execute_result"
    }
   ],
   "source": [
    "# Separar las características (X) y la variable objetivo (y)\n",
    "X_modulo = df[['temperaturaAmbiente','tiempo']]\n",
    "y_modulo = df['temperaturaSensor']\n",
    "\n",
    "X_irradiacion = df[['temperaturaSensor', 'tiempo']]\n",
    "y_irradiacion = df['irradiacion']\n",
    "# Dividir los datos en conjuntos de entrenamiento y prueba\n",
    "X_modulo_train, X_modulo_test, y_modulo_train, y_modulo_test = train_test_split(X_modulo, y_modulo, test_size=0.2, random_state=42)\n",
    "X_irradiacion_train, X_irradiacion_test, y_irradiacion_train, y_irradiacion_test = train_test_split(X_irradiacion, y_irradiacion, test_size=0.2, random_state=42)\n",
    "# Crear un modelo de regresión lineal\n",
    "model_modulo = LinearRegression()\n",
    "model_irradiacion = LinearRegression()\n",
    "\n",
    "# Entrenar el modelo\n",
    "model_modulo.fit(X_modulo_train, y_modulo_train)\n",
    "model_irradiacion.fit(X_irradiacion_train, y_irradiacion_train)\n"
   ]
  },
  {
   "cell_type": "code",
   "execution_count": 6,
   "metadata": {},
   "outputs": [
    {
     "name": "stdout",
     "output_type": "stream",
     "text": [
      "Coeficiente de determinación Módulo (R²): 0.7755860431848806\n",
      "Coeficiente de determinación Irradiación (R²): 0.8157817383507526\n"
     ]
    }
   ],
   "source": [
    "# Realizar predicciones en el conjunto de prueba\n",
    "y_modulo_pred = model_modulo.predict(X_modulo_test)\n",
    "y_irradiacion_pred = model_irradiacion.predict(X_irradiacion_test)\n",
    "\n",
    "# Evaluar el rendimiento del modelo\n",
    "r2_modulo = r2_score(y_modulo_test, y_modulo_pred)\n",
    "r2_irradiacion = r2_score(y_irradiacion_test, y_irradiacion_pred)\n",
    "\n",
    "# Imprimir los resultados\n",
    "# print(\"Coeficientes del modelo:\", model.coef_)\n",
    "# print(\"Intercepción del modelo:\", model.intercept_)\n",
    "# print(\"Error cuadrático medio (MSE):\", mse)\n",
    "print(\"Coeficiente de determinación Módulo (R²):\", r2_modulo)\n",
    "print(\"Coeficiente de determinación Irradiación (R²):\", r2_irradiacion)\n"
   ]
  },
  {
   "cell_type": "code",
   "execution_count": 7,
   "metadata": {},
   "outputs": [
    {
     "name": "stderr",
     "output_type": "stream",
     "text": [
      "c:\\Users\\luisj\\AppData\\Local\\Programs\\Python\\Python310\\lib\\site-packages\\sklearn\\base.py:465: UserWarning: X does not have valid feature names, but LinearRegression was fitted with feature names\n",
      "  warnings.warn(\n",
      "c:\\Users\\luisj\\AppData\\Local\\Programs\\Python\\Python310\\lib\\site-packages\\sklearn\\base.py:465: UserWarning: X does not have valid feature names, but LinearRegression was fitted with feature names\n",
      "  warnings.warn(\n"
     ]
    },
    {
     "data": {
      "text/plain": [
       "396.0498486741254"
      ]
     },
     "execution_count": 7,
     "metadata": {},
     "output_type": "execute_result"
    }
   ],
   "source": [
    "# En la prediccion se debe pasar una lista con la hora\n",
    "a = model_modulo.predict([[23, 14+(40//5)*0.083]])\n",
    "irradiacion = model_irradiacion.predict([[a[0], 14+(40//5)*0.083]])\n",
    "irradiacion[0]"
   ]
  },
  {
   "cell_type": "markdown",
   "metadata": {},
   "source": [
    "### Guardar el modelo"
   ]
  },
  {
   "cell_type": "code",
   "execution_count": 8,
   "metadata": {},
   "outputs": [
    {
     "data": {
      "text/plain": [
       "['modelo_regresion_lineal_irradiacion.joblib']"
      ]
     },
     "execution_count": 8,
     "metadata": {},
     "output_type": "execute_result"
    }
   ],
   "source": [
    "import joblib\n",
    "\n",
    "joblib.dump(model_modulo, 'modelo_regresion_lineal_modulo.joblib')\n",
    "joblib.dump(model_irradiacion, 'modelo_regresion_lineal_irradiacion.joblib')"
   ]
  },
  {
   "cell_type": "code",
   "execution_count": 9,
   "metadata": {},
   "outputs": [],
   "source": [
    "# Cargar el modelo\n",
    "model_modulo = joblib.load('modelo_regresion_lineal_modulo.joblib')\n",
    "model_irradiacion = joblib.load('modelo_regresion_lineal_irradiacion.joblib')"
   ]
  },
  {
   "cell_type": "code",
   "execution_count": 10,
   "metadata": {},
   "outputs": [
    {
     "name": "stderr",
     "output_type": "stream",
     "text": [
      "c:\\Users\\luisj\\AppData\\Local\\Programs\\Python\\Python310\\lib\\site-packages\\sklearn\\base.py:465: UserWarning: X does not have valid feature names, but LinearRegression was fitted with feature names\n",
      "  warnings.warn(\n",
      "c:\\Users\\luisj\\AppData\\Local\\Programs\\Python\\Python310\\lib\\site-packages\\sklearn\\base.py:465: UserWarning: X does not have valid feature names, but LinearRegression was fitted with feature names\n",
      "  warnings.warn(\n"
     ]
    },
    {
     "data": {
      "text/plain": [
       "396.0498486741254"
      ]
     },
     "execution_count": 10,
     "metadata": {},
     "output_type": "execute_result"
    }
   ],
   "source": [
    "a = model_modulo.predict([[23, 14+(40//5)*0.083]])\n",
    "irradiacion = model_irradiacion.predict([[a[0], 14+(40//5)*0.083]])\n",
    "irradiacion[0]"
   ]
  }
 ],
 "metadata": {
  "kernelspec": {
   "display_name": "Python 3",
   "language": "python",
   "name": "python3"
  },
  "language_info": {
   "codemirror_mode": {
    "name": "ipython",
    "version": 3
   },
   "file_extension": ".py",
   "mimetype": "text/x-python",
   "name": "python",
   "nbconvert_exporter": "python",
   "pygments_lexer": "ipython3",
   "version": "3.10.11"
  }
 },
 "nbformat": 4,
 "nbformat_minor": 2
}
